{
 "cells": [
  {
   "cell_type": "markdown",
   "metadata": {
    "id": "iajAUKhluUY5"
   },
   "source": [
    "Importing the necessary libraries"
   ]
  },
  {
   "cell_type": "code",
   "execution_count": null,
   "metadata": {
    "id": "ywoyfIT9ulJC"
   },
   "outputs": [],
   "source": [
    "import tensorflow as tf\n",
    "from tensorflow.keras.utils import to_categorical\n",
    "from keras_preprocessing.image import ImageDataGenerator\n",
    "import matplotlib.pyplot as plt\n",
    "from tensorflow.keras.models import Sequential\n",
    "from tensorflow.keras.layers import Conv2D, MaxPool2D, Dense, Flatten, Dropout, Input, BatchNormalization\n",
    "from tensorflow.keras import optimizers\n",
    "from tensorflow.keras.preprocessing.image import ImageDataGenerator\n",
    "import numpy as np\n",
    "from sklearn.metrics import confusion_matrix\n",
    "import seaborn as sns\n",
    "import pandas as pd"
   ]
  },
  {
   "cell_type": "code",
   "execution_count": null,
   "metadata": {
    "colab": {
     "base_uri": "https://localhost:8080/"
    },
    "id": "rolI3_BvuMVs",
    "outputId": "27d9e6aa-2095-41af-c543-ba34df7f76b6"
   },
   "outputs": [],
   "source": [
    "# Importing the dataset\n",
    "from tensorflow.keras.datasets import cifar10\n",
    "\n",
    "# Setting the random seed for the model\n",
    "tf.random.set_seed(42)\n",
    "\n",
    "# Assigning the train and test dataset\n",
    "(X_train, Y_train), (X_test, Y_test)=cifar10.load_data()\n",
    "\n",
    "# Shape of the datasets\n",
    "print('Shape of x_train is {}'.format(X_train.shape))\n",
    "print('Shape of x_test is {}'.format(X_test.shape))\n",
    "print('Shape of y_train is {}'.format(Y_train.shape))\n",
    "print('Shape of y_test is {}'.format(Y_test.shape))"
   ]
  },
  {
   "cell_type": "markdown",
   "metadata": {
    "id": "dw6vrZ4Ryptt"
   },
   "source": [
    "Conducting Data Preprocessing"
   ]
  },
  {
   "cell_type": "code",
   "execution_count": null,
   "metadata": {
    "colab": {
     "base_uri": "https://localhost:8080/"
    },
    "id": "nhW-AKKoAhDn",
    "outputId": "8e05a4d0-1ac8-4fd9-dcc9-ddcd78f1be3e"
   },
   "outputs": [],
   "source": [
    "# Number of classes in the dataset\n",
    "K = len(set(Y_train.flatten()))\n",
    "print(\"number of classes:\", K)\n",
    "\n",
    "# Normalizing the dataset\n",
    "# Pixel values ranges from 0-255. So if we divide them\n",
    "# with 255 we automatically normalizee the data between 0-1.\n",
    "\n",
    "x_train=X_train/255\n",
    "x_test=X_test/255\n",
    "# Converting the categorical values to numeric representation \n",
    "y_train = to_categorical(Y_train, K)\n",
    "y_test = to_categorical(Y_test, K)\n",
    "\n",
    "# Conducting data augmentation to implove model performance\n",
    "datagen = ImageDataGenerator( horizontal_flip=True)\n",
    "it_train = datagen.flow(x_train, y_train, batch_size=64)\n",
    "steps = int(x_train.shape[0] / 64)"
   ]
  },
  {
   "cell_type": "markdown",
   "metadata": {
    "id": "Q2S8PGqPy0PI"
   },
   "source": [
    "# Creating the Deep Learning model"
   ]
  },
  {
   "cell_type": "markdown",
   "metadata": {
    "id": "OlyJ-kRZ1PZA"
   },
   "source": [
    "## Creating an initial model with fewer hidden layer"
   ]
  },
  {
   "cell_type": "markdown",
   "metadata": {
    "id": "eikyKTxBI-EO"
   },
   "source": [
    "## Optimiser Hyper Parameter Tuning\n",
    "### Model using Adam Optimiser"
   ]
  },
  {
   "cell_type": "code",
   "execution_count": null,
   "metadata": {
    "colab": {
     "background_save": true
    },
    "id": "ow-muVaTzQze"
   },
   "outputs": [],
   "source": [
    "# Adding the layers to the model sequentially using CNN architecture \n",
    "model_adam = Sequential()\n",
    "model_adam.add(Conv2D(32, (3, 3), activation='relu',  padding='same', input_shape=(32, 32, 3)))\n",
    "model_adam.add(BatchNormalization())\n",
    "model_adam.add(Conv2D(32, (3, 3), activation='relu',  padding='same'))\n",
    "model_adam.add(BatchNormalization())\n",
    "model_adam.add(MaxPool2D((2, 2)))\n",
    "model_adam.add(Dropout(0.2))\n",
    "model_adam.add(Conv2D(64, (3, 3), activation='relu',  padding='same'))\n",
    "model_adam.add(BatchNormalization())\n",
    "model_adam.add(Conv2D(64, (3, 3), activation='relu',  padding='same'))\n",
    "model_adam.add(BatchNormalization())\n",
    "model_adam.add(MaxPool2D((2, 2)))\n",
    "model_adam.add(Dropout(0.3))\n",
    "model_adam.add(Flatten())\n",
    "model_adam.add(Dense(64, activation='relu'))\n",
    "model_adam.add(Dropout(0.5))\n",
    "model_adam.add(Dense(10, activation='softmax'))\n",
    "# Compiling the model architecture\n",
    "model_adam.compile(optimizer='adam', loss='categorical_crossentropy', metrics=['accuracy'])\n",
    "# Feeding the model with the training dataset\n",
    "history=model_adam.fit(it_train,epochs=20,validation_data=(x_test,y_test), verbose = 0)"
   ]
  },
  {
   "cell_type": "code",
   "execution_count": null,
   "metadata": {
    "colab": {
     "background_save": true
    },
    "id": "i_n9Bwhw2nxS",
    "outputId": "45eb721c-cfc8-428f-de7c-55f01379482a"
   },
   "outputs": [],
   "source": [
    "evaluation = model_adam.evaluate(x_test, y_test)\n",
    "print('Test Accuracy Adam Optimiser: {}'.format(evaluation[1]))"
   ]
  },
  {
   "cell_type": "markdown",
   "metadata": {
    "id": "gYCcwCp6Jerl"
   },
   "source": [
    "### Model using SGD Optimiser"
   ]
  },
  {
   "cell_type": "code",
   "execution_count": null,
   "metadata": {
    "id": "Pjxvouh2JnbO"
   },
   "outputs": [],
   "source": [
    "# Adding the layers to the model sequentially using CNN architecture \n",
    "model_SGD = Sequential()\n",
    "model_SGD.add(Conv2D(32, (3, 3), activation='relu',  padding='same', input_shape=(32, 32, 3)))\n",
    "model_SGD.add(BatchNormalization())\n",
    "model_SGD.add(Conv2D(32, (3, 3), activation='relu',  padding='same'))\n",
    "model_SGD.add(BatchNormalization())\n",
    "model_SGD.add(MaxPool2D((2, 2)))\n",
    "model_SGD.add(Dropout(0.2))\n",
    "model_SGD.add(Conv2D(64, (3, 3), activation='relu',  padding='same'))\n",
    "model_SGD.add(BatchNormalization())\n",
    "model_SGD.add(Conv2D(64, (3, 3), activation='relu',  padding='same'))\n",
    "model_SGD.add(BatchNormalization())\n",
    "model_SGD.add(MaxPool2D((2, 2)))\n",
    "model_SGD.add(Dropout(0.3))\n",
    "model_SGD.add(Flatten())\n",
    "model_SGD.add(Dense(64, activation='relu'))\n",
    "model_SGD.add(Dropout(0.5))\n",
    "model_SGD.add(Dense(10, activation='softmax'))\n",
    "# Compiling the model architecture\n",
    "model_SGD.compile(optimizer='sgd', loss='categorical_crossentropy', metrics=['accuracy'])\n",
    "# Feeding the model with the training dataset\n",
    "history=model_SGD.fit(it_train,epochs=20,validation_data=(x_test,y_test), verbose = 0)"
   ]
  },
  {
   "cell_type": "code",
   "execution_count": null,
   "metadata": {
    "colab": {
     "base_uri": "https://localhost:8080/"
    },
    "id": "tvhsQgBSNLJT",
    "outputId": "2c4982fd-d85c-4fc8-a2f5-9c3b5960a3ce"
   },
   "outputs": [],
   "source": [
    "evaluation = model_SGD.evaluate(x_test, y_test)\n",
    "print('Test Accuracy SGD optimiser: {}'.format(evaluation[1]))"
   ]
  },
  {
   "cell_type": "markdown",
   "metadata": {
    "id": "WHfhBHNINgOq"
   },
   "source": [
    "### Model using Adamax Optimiser"
   ]
  },
  {
   "cell_type": "code",
   "execution_count": null,
   "metadata": {
    "id": "TqeNW8VeNcP0"
   },
   "outputs": [],
   "source": [
    "# Adding the layers to the model sequentially using CNN architecture \n",
    "model_Admax = Sequential()\n",
    "model_Admax.add(Conv2D(32, (3, 3), activation='relu',  padding='same', input_shape=(32, 32, 3)))\n",
    "model_Admax.add(BatchNormalization())\n",
    "model_Admax.add(Conv2D(32, (3, 3), activation='relu',  padding='same'))\n",
    "model_Admax.add(BatchNormalization())\n",
    "model_Admax.add(MaxPool2D((2, 2)))\n",
    "model_Admax.add(Dropout(0.2))\n",
    "model_Admax.add(Conv2D(64, (3, 3), activation='relu',  padding='same'))\n",
    "model_Admax.add(BatchNormalization())\n",
    "model_Admax.add(Conv2D(64, (3, 3), activation='relu',  padding='same'))\n",
    "model_Admax.add(BatchNormalization())\n",
    "model_Admax.add(MaxPool2D((2, 2)))\n",
    "model_Admax.add(Dropout(0.3))\n",
    "model_Admax.add(Flatten())\n",
    "model_Admax.add(Dense(64, activation='relu'))\n",
    "model_Admax.add(Dropout(0.5))\n",
    "model_Admax.add(Dense(10, activation='softmax'))\n",
    "# Compiling the model architecture\n",
    "model_Admax.compile(optimizer='adamax', loss='categorical_crossentropy', metrics=['accuracy'])\n",
    "# Feeding the model with the training dataset\n",
    "history=model_Admax.fit(it_train,epochs=20,validation_data=(x_test,y_test), verbose = 0)"
   ]
  },
  {
   "cell_type": "code",
   "execution_count": null,
   "metadata": {
    "colab": {
     "base_uri": "https://localhost:8080/"
    },
    "id": "m_kXxWhoN9Y1",
    "outputId": "fa9f7db6-37d9-4499-dad2-665faa81a9c9"
   },
   "outputs": [],
   "source": [
    "evaluation = model_Admax.evaluate(x_test, y_test)\n",
    "print('Test Accuracy Adamax optimiser: {}'.format(evaluation[1]))"
   ]
  },
  {
   "cell_type": "markdown",
   "metadata": {
    "id": "fFakq9zOOZHD"
   },
   "source": [
    "## Adam optimiser was seceted as the optimiser for this model since it was able to provide better performance when compared to SGD and Adamax optimisers"
   ]
  },
  {
   "cell_type": "markdown",
   "metadata": {
    "id": "cpkHbjrT1D3p"
   },
   "source": [
    "## Creating amore complex model with more hidden layes and more epochs"
   ]
  },
  {
   "cell_type": "code",
   "execution_count": null,
   "metadata": {
    "colab": {
     "base_uri": "https://localhost:8080/"
    },
    "id": "6U4Krx-9qDLp",
    "outputId": "61d53dc1-dee6-4190-b35b-054bd3d9dedb"
   },
   "outputs": [],
   "source": [
    "model_final = Sequential()\n",
    "model_final.add(Conv2D(32, (3, 3), activation='relu',padding='same', input_shape=(32, 32, 3)))\n",
    "model_final.add(BatchNormalization())\n",
    "model_final.add(Conv2D(32, (3, 3), activation='relu',padding='same'))\n",
    "model_final.add(BatchNormalization())\n",
    "model_final.add(MaxPool2D((2, 2)))\n",
    "model_final.add(Dropout(0.2))\n",
    "model_final.add(Conv2D(64, (3, 3), activation='relu', padding='same'))\n",
    "model_final.add(BatchNormalization())\n",
    "model_final.add(Conv2D(64, (3, 3), activation='relu',  padding='same'))\n",
    "model_final.add(BatchNormalization())\n",
    "model_final.add(MaxPool2D((2, 2)))\n",
    "model_final.add(Dropout(0.3))\n",
    "model_final.add(Conv2D(128, (3, 3), activation='relu', padding='same'))\n",
    "model_final.add(BatchNormalization())\n",
    "model_final.add(Conv2D(128, (3, 3), activation='relu', padding='same'))\n",
    "model_final.add(BatchNormalization())\n",
    "model_final.add(MaxPool2D((2, 2)))\n",
    "model_final.add(Dropout(0.4))\n",
    "model_final.add(Conv2D(256, (3, 3), activation='relu', padding='same'))\n",
    "model_final.add(BatchNormalization())\n",
    "model_final.add(MaxPool2D((2, 2)))\n",
    "model_final.add(Dropout(0.5))\n",
    "model_final.add(Flatten())\n",
    "model_final.add(Dense(256, activation='relu'))\n",
    "model_final.add(Dropout(0.5))\n",
    "model_final.add(Dense(10, activation='softmax'))\n",
    "model_final.compile(optimizer='adam', loss='categorical_crossentropy', metrics=['accuracy'])\n",
    "history=model_final.fit(it_train, steps_per_epoch=steps, epochs=100, validation_data=(x_test, y_test))"
   ]
  },
  {
   "cell_type": "code",
   "execution_count": null,
   "metadata": {
    "colab": {
     "base_uri": "https://localhost:8080/"
    },
    "id": "VWDE36xdErRu",
    "outputId": "335835a4-59bc-47e2-e322-da8807c5c56a"
   },
   "outputs": [],
   "source": [
    "model_final.summary()"
   ]
  },
  {
   "cell_type": "markdown",
   "metadata": {
    "id": "4f2Iiwd03osj"
   },
   "source": [
    "# Model performance Evaluation"
   ]
  },
  {
   "cell_type": "code",
   "execution_count": null,
   "metadata": {
    "colab": {
     "base_uri": "https://localhost:8080/"
    },
    "id": "XfLp5pwrMSUJ",
    "outputId": "df953e48-ecec-4765-bbd5-92ab5a549d42"
   },
   "outputs": [],
   "source": [
    "# Accuracy of the model with the test dataset\n",
    "evaluation = model_final.evaluate(x_test, y_test)\n",
    "print('Test Accuracy: {}'.format(evaluation[1]))"
   ]
  },
  {
   "cell_type": "markdown",
   "metadata": {
    "id": "1L6XLQ9O4D5h"
   },
   "source": [
    "## Visualising the training loss of the model"
   ]
  },
  {
   "cell_type": "code",
   "execution_count": null,
   "metadata": {
    "colab": {
     "base_uri": "https://localhost:8080/",
     "height": 295
    },
    "id": "5m1TCaUVtgnq",
    "outputId": "79c1da83-8a9e-4b69-a15f-50d587000f07"
   },
   "outputs": [],
   "source": [
    "plt.plot(history.history['loss']) \n",
    "plt.plot(history.history['val_loss']) \n",
    "plt.title('Model Training loss') \n",
    "plt.ylabel('Loss') \n",
    "plt.xlabel('Epoch') \n",
    "plt.legend(['Train', 'Validation'], loc='upper left') \n",
    "plt.show()"
   ]
  },
  {
   "cell_type": "markdown",
   "metadata": {
    "id": "61NZ_FQ_P5-g"
   },
   "source": [
    "Storing the predictios of the model with the test dataset"
   ]
  },
  {
   "cell_type": "code",
   "execution_count": null,
   "metadata": {
    "id": "MCbGMCTg57tU"
   },
   "outputs": [],
   "source": [
    "predictions = model_final.predict(x_test)\n",
    "# Converting the predictions into 0 & 1\n",
    "seq_predictions = np.argmax(predictions, axis =1)"
   ]
  },
  {
   "cell_type": "markdown",
   "metadata": {
    "id": "dRNX2OwDQf3b"
   },
   "source": [
    "## Creating the confusion matrix"
   ]
  },
  {
   "cell_type": "code",
   "execution_count": null,
   "metadata": {
    "colab": {
     "base_uri": "https://localhost:8080/",
     "height": 519
    },
    "id": "5ckYwl005LE-",
    "outputId": "93354846-47f9-459c-e63a-9e79048a818e"
   },
   "outputs": [],
   "source": [
    "# Converting the Y test labels into numpy array\n",
    "y_true = np.argmax(y_test, axis=1)\n",
    "\n",
    "# Creating the confusion matrix\n",
    "cm = confusion_matrix(y_true=y_true, y_pred=seq_predictions)\n",
    "class_names = ['airplane','automobile','bird','cat','deer','dog','frog','horse','ship','truck']\n",
    "cm =  pd.DataFrame(cm, index=class_names,columns=class_names)\n",
    "fig = plt.figure(figsize=(14,8))\n",
    "ax = sns.heatmap(cm,annot=True,cbar=False, cmap='Greens',linewidths=0.5,fmt='.0f')\n",
    "ax.set_title('Confusion Matrix',fontsize=16,y=1.25)\n",
    "ax.set_ylabel('Ground Truth',fontsize=14)\n",
    "ax.set_xlabel('Predicted',fontsize=14)\n",
    "ax.xaxis.set_ticks_position('top')\n",
    "ax.xaxis.set_label_position('top')\n",
    "ax.tick_params(labelsize=12)\n"
   ]
  },
  {
   "cell_type": "markdown",
   "metadata": {
    "id": "WP9LaCd9gsng"
   },
   "source": [
    "## Visualising model predictions"
   ]
  },
  {
   "cell_type": "code",
   "execution_count": null,
   "metadata": {
    "colab": {
     "base_uri": "https://localhost:8080/",
     "height": 989
    },
    "id": "J9YIiYqiAssh",
    "outputId": "343d2ea5-8551-43f3-8e4c-882a550776e9"
   },
   "outputs": [],
   "source": [
    "labels = ['Airplane', 'Automobile', 'Bird', 'Cat', 'Deer', 'Dog', 'Frog', 'Horse', 'Ship', 'Truck']\n",
    "Y_true = np.argmax(y_test, axis=1)\n",
    "def show_test(number):\n",
    "    fig = plt.figure(figsize = (3,3))\n",
    "    test_image = np.expand_dims(x_test[number], axis=0)\n",
    "    test_result = model_l.predict_classes(test_image)\n",
    "    plt.imshow(x_test[number])\n",
    "    dict_key = test_result[0]\n",
    "    plt.title(\"Predicted: {} \\nTrue Label: {}\".format(labels[dict_key], labels[Y_true[number]]))\n",
    "show_test(200),show_test(1200),  show_test(100), show_test(140)"
   ]
  }
 ],
 "metadata": {
  "accelerator": "GPU",
  "colab": {
   "collapsed_sections": [],
   "name": "development_DL.ipynb",
   "provenance": []
  },
  "kernelspec": {
   "display_name": "Python 3",
   "language": "python",
   "name": "python3"
  },
  "language_info": {
   "codemirror_mode": {
    "name": "ipython",
    "version": 3
   },
   "file_extension": ".py",
   "mimetype": "text/x-python",
   "name": "python",
   "nbconvert_exporter": "python",
   "pygments_lexer": "ipython3",
   "version": "3.8.8"
  }
 },
 "nbformat": 4,
 "nbformat_minor": 1
}
